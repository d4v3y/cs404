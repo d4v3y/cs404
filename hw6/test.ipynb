{
 "cells": [
  {
   "cell_type": "markdown",
   "metadata": {},
   "source": [
    "# Neural Network Example Using Fashion MNIST dataset (Fully connected)\n",
    "Link: https://medium.com/@chamara95.eng/neural-network-example-using-fashion-mnist-dataset-c19b48c86cf1"
   ]
  },
  {
   "cell_type": "code",
   "execution_count": null,
   "metadata": {},
   "outputs": [],
   "source": [
    "from __future__ import absolute_import, division, print_function\n",
    "\n",
    "# TensorFlow and tf.keras\n",
    "import tensorflow as tf\n",
    "from tensorflow import keras\n",
    "\n",
    "# Helper libraries\n",
    "import numpy as np\n",
    "import matplotlib.pyplot as plt"
   ]
  },
  {
   "cell_type": "code",
   "execution_count": null,
   "metadata": {},
   "outputs": [],
   "source": [
    "fashion_mnist = keras.datasets.fashion_mnist\n",
    "\n",
    "(train_images, train_labels), (test_images, test_labels) = fashion_mnist.load_data()"
   ]
  },
  {
   "cell_type": "code",
   "execution_count": null,
   "metadata": {},
   "outputs": [],
   "source": [
    "class_names = ['T-shirt/top', 'Trouser', 'Pullover', 'Dress', 'Coat',\n",
    "               'Sandal', 'Shirt', 'Sneaker', 'Bag', 'Ankle boot']"
   ]
  },
  {
   "cell_type": "code",
   "execution_count": null,
   "metadata": {},
   "outputs": [],
   "source": [
    "print(train_images.shape)\n",
    "print(test_images.shape)\n",
    "print(train_labels.size)\n",
    "print(test_labels.size)\n",
    "print(train_images)\n",
    "print(test_images)"
   ]
  },
  {
   "cell_type": "code",
   "execution_count": null,
   "metadata": {},
   "outputs": [],
   "source": [
    "plt.figure()\n",
    "plt.imshow(train_images[3])\n",
    "plt.colorbar()\n",
    "plt.grid(False)\n",
    "plt.show()"
   ]
  },
  {
   "cell_type": "code",
   "execution_count": null,
   "metadata": {},
   "outputs": [],
   "source": [
    "train_images = train_images / 255.0\n",
    "test_images = test_images / 255.0"
   ]
  },
  {
   "cell_type": "code",
   "execution_count": null,
   "metadata": {},
   "outputs": [],
   "source": [
    "plt.figure(figsize=(10, 10))\n",
    "for i in range(25):\n",
    "   plt.subplot(5, 5, i+1)\n",
    "   plt.xticks([])\n",
    "   plt.yticks([])\n",
    "   plt.grid(False)\n",
    "   plt.imshow(train_images[i], cmap=plt.cm.binary)\n",
    "   plt.xlabel(class_names[train_labels[i]])\n",
    "plt.show()"
   ]
  },
  {
   "cell_type": "code",
   "execution_count": null,
   "metadata": {},
   "outputs": [],
   "source": [
    "# Building the model (Setting up the layers)\n",
    "model = keras.Sequential([\n",
    "   keras.layers.Flatten(input_shape=(28, 28)),\n",
    "   keras.layers.Dense(128, activation=tf.nn.relu),\n",
    "   keras.layers.Dense(10, activation=tf.nn.softmax)\n",
    "])"
   ]
  },
  {
   "cell_type": "code",
   "execution_count": null,
   "metadata": {},
   "outputs": [],
   "source": [
    "# Compile the model\n",
    "model.compile(optimizer='adam',\n",
    "               loss='sparse_categorical_crossentropy',\n",
    "               metrics=['accuracy'])"
   ]
  },
  {
   "cell_type": "code",
   "execution_count": null,
   "metadata": {},
   "outputs": [],
   "source": [
    "# Train the model\n",
    "model.fit(train_images, train_labels, epochs=5)"
   ]
  },
  {
   "cell_type": "code",
   "execution_count": null,
   "metadata": {},
   "outputs": [],
   "source": [
    "test_loss, test_acc = model.evaluate(test_images, test_labels)"
   ]
  },
  {
   "cell_type": "code",
   "execution_count": null,
   "metadata": {},
   "outputs": [],
   "source": [
    "# Make predications\n",
    "predications = model.predict(test_images)\n",
    "print(predications[0])"
   ]
  },
  {
   "cell_type": "code",
   "execution_count": null,
   "metadata": {},
   "outputs": [],
   "source": [
    "def plot_image(i, predications_array, true_label, img):\n",
    "   predications_array, true_label, img = predications_array[i], true_label[i], img[i]\n",
    "   plt.grid(False)\n",
    "   plt.xticks([])\n",
    "   plt.yticks([])\n",
    "\n",
    "   plt.imshow(img, cmap=plt.cm.binary)\n",
    "\n",
    "   predicted_label = np.argmax(predications_array)\n",
    "   if predicted_label == true_label:\n",
    "      color = 'blue'\n",
    "   else:\n",
    "      color = 'red'\n",
    "\n",
    "   plt.xlabel(\"{} {:2.0f}% ({})\".format(class_names[predicted_label],\n",
    "                                 100*np.max(predications_array),\n",
    "                                 class_names[true_label]),\n",
    "                                 color=color)\n",
    "\n",
    "def plot_value_array(i, predications_array, true_label):\n",
    "   predications_array, true_label = predications_array[i], true_label[i]\n",
    "   plt.grid(False)\n",
    "   plt.xticks([])\n",
    "   plt.yticks([])\n",
    "   thisplot = plt.bar(range(10), predications_array, color=\"#777777\")\n",
    "   plt.ylim([0, 1])\n",
    "   predicted_label = np.argmax(predications_array)\n",
    "\n",
    "   thisplot[predicted_label].set_color('red')\n",
    "   thisplot[true_label].set_color('blue')\n",
    "\n",
    "num_rows = 5\n",
    "num_cols = 3\n",
    "num_images = num_rows * num_cols\n",
    "plt.figure(figsize=(2*2*num_cols, 2*num_rows))\n",
    "for i in range(num_images):\n",
    "   plt.subplot(num_rows, 2*num_cols, 2*i+1)\n",
    "   plot_image(i, predications, test_labels, test_images)\n",
    "   plt.subplot(num_rows, 2*num_cols, 2*i+2)\n",
    "   plot_value_array(i, predications, test_labels)\n",
    "plt.show()"
   ]
  },
  {
   "cell_type": "code",
   "execution_count": null,
   "metadata": {},
   "outputs": [],
   "source": [
    "img = test_images[10]\n",
    "img = (np.expand_dims(img, 0))\n",
    "predications_single = model.predict(img)\n",
    "\n",
    "plot_value_array(0, predications_single, test_labels)\n",
    "_ = plt.xticks(range(10), class_names, rotation=45)\n",
    "plt.show()"
   ]
  }
 ],
 "metadata": {
  "interpreter": {
   "hash": "ce4f672dc3c89519863cb61fb99609ad71629b1e5f9ce5ace8fbbb7d7b3aa019"
  },
  "kernelspec": {
   "display_name": "Python 3.8.5 64-bit ('base': conda)",
   "language": "python",
   "name": "python3"
  },
  "language_info": {
   "codemirror_mode": {
    "name": "ipython",
    "version": 3
   },
   "file_extension": ".py",
   "mimetype": "text/x-python",
   "name": "python",
   "nbconvert_exporter": "python",
   "pygments_lexer": "ipython3",
   "version": "3.8.5"
  },
  "orig_nbformat": 4
 },
 "nbformat": 4,
 "nbformat_minor": 2
}
